{
 "cells": [
  {
   "cell_type": "code",
   "execution_count": 1,
   "id": "a7a14595",
   "metadata": {},
   "outputs": [],
   "source": [
    "import numpy as np\n",
    "import pandas as pd\n",
    "import streamlit as st"
   ]
  },
  {
   "cell_type": "code",
   "execution_count": null,
   "id": "603ad217",
   "metadata": {},
   "outputs": [],
   "source": [
    "df_heritage = pd.read_csv(\"data/KF_AREA_CLTUR_MDRN_CLTUR_HRITG_DATA_LIST_202312.csv\")\n",
    "\n",
    "# 유산 데이터 전처리\n",
    "df_heritage = df_heritage.dropna(subset=['CTPRVN_NM', 'CTLSTT_LA', 'CTLSTT_LO'])\n",
    "df_heritage = df_heritage.drop_duplicates(subset=['CTLSTT_LA', 'CTLSTT_LO'], keep='first')\n",
    "\n",
    "# 지역별 유산 개수\n",
    "heritage_count = df_heritage.groupby('CTPRVN_NM').count()['DATA_MANAGE_NO']\n",
    "\n",
    "# =========================\n",
    "# 2. 문화축제 CSV 불러오기\n",
    "# =========================\n",
    "df_festival = pd.read_csv('data/전국문화축제표준데이터.csv', encoding='cp949')\n",
    "\n",
    "# 필요한 컬럼만 가져오기\n",
    "df_festival = df_festival.dropna(subset=['위도', '경도'])\n",
    "df_festival = df_festival[df_festival['위도'] != 0]\n",
    "\n",
    "df.head()"
   ]
  }
 ],
 "metadata": {
  "kernelspec": {
   "display_name": "Python 3",
   "language": "python",
   "name": "python3"
  },
  "language_info": {
   "codemirror_mode": {
    "name": "ipython",
    "version": 3
   },
   "file_extension": ".py",
   "mimetype": "text/x-python",
   "name": "python",
   "nbconvert_exporter": "python",
   "pygments_lexer": "ipython3",
   "version": "3.12.10"
  }
 },
 "nbformat": 4,
 "nbformat_minor": 5
}
